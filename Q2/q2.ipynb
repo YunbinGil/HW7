{
 "cells": [
  {
   "cell_type": "code",
   "execution_count": 10,
   "id": "f6e097f3",
   "metadata": {},
   "outputs": [
    {
     "name": "stdout",
     "output_type": "stream",
     "text": [
      "doc1=  0.58\n",
      "doc2=  0.87\n",
      "doc3=  0.67\n"
     ]
    }
   ],
   "source": [
    "import numpy as np\n",
    "\n",
    "def cs(A, B):\n",
    "    return np.dot(A, B)/(np.linalg.norm(A)*np.linalg.norm(B))\n",
    "def cos_sim():\n",
    "    Docs = np.array([[1,1,0,1,0,1],\n",
    "                    [1,1,1,0,1,0],\n",
    "                    [1,1,0,1,0,0]])\n",
    "    Query = np.array([1,1,0,0,1,0])\n",
    "    \n",
    "    print(\"doc1= \", round(cs(Docs[0], Query),2))\n",
    "    print(\"doc2= \", round(cs(Docs[1], Query),2))\n",
    "    print(\"doc3= \", round(cs(Docs[2], Query),2))    \n",
    "    \n",
    "def main():\n",
    "    cos_sim()\n",
    "if __name__ == '__main__':\n",
    "    main()"
   ]
  }
 ],
 "metadata": {
  "kernelspec": {
   "display_name": "Python 3 (ipykernel)",
   "language": "python",
   "name": "python3"
  },
  "language_info": {
   "codemirror_mode": {
    "name": "ipython",
    "version": 3
   },
   "file_extension": ".py",
   "mimetype": "text/x-python",
   "name": "python",
   "nbconvert_exporter": "python",
   "pygments_lexer": "ipython3",
   "version": "3.9.12"
  }
 },
 "nbformat": 4,
 "nbformat_minor": 5
}
