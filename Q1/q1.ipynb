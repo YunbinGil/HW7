{
 "cells": [
  {
   "cell_type": "code",
   "execution_count": 2,
   "id": "2db09098",
   "metadata": {},
   "outputs": [
    {
     "name": "stdout",
     "output_type": "stream",
     "text": [
      "Eigenvalues:  [-0.37228132  5.37228132]\n",
      "Eigenvectors:  [[-0.82456484 -0.41597356]\n",
      " [ 0.56576746 -0.90937671]]\n",
      "Determinant:  -2.0000000000000004\n",
      "Cross product:  [-3  6 -3]\n",
      "Solutions:  [-1. -4.  3.]\n"
     ]
    }
   ],
   "source": [
    "import numpy as np\n",
    "\n",
    "def eigenv(t):\n",
    "    eig_val, eig_vec = np.linalg.eig(t)\n",
    "    print(\"Eigenvalues: \", eig_val)\n",
    "    print(\"Eigenvectors: \", eig_vec)\n",
    "    \n",
    "def determinant(t):\n",
    "    det = np.linalg.det(t)\n",
    "    print(\"Determinant: \", det)\n",
    "\n",
    "def cross_product(v1, v2):\n",
    "    print(\"Cross product: \", np.cross(v1, v2))\n",
    "\n",
    "def solve():\n",
    "    A = np.array([[1,2,-2],\n",
    "                 [2,1,-5],\n",
    "                 [1,-4,1]])\n",
    "    b = np.array([-15, -21, 18])\n",
    "    \n",
    "    x = np.linalg.solve(A, b)\n",
    "    print(\"Solutions: \", x)\n",
    "    \n",
    "def main():\n",
    "    mat = np.array([[1,2],\n",
    "                  [3,4]])\n",
    "    eigenv(mat)\n",
    "    determinant(mat)\n",
    "    \n",
    "    vec1 = np.array([1,2,3])\n",
    "    vec2 = np.array([4,5,6])\n",
    "    cross_product(vec1, vec2)\n",
    "    \n",
    "    solve()\n",
    "\n",
    "if __name__ == '__main__':\n",
    "    main()"
   ]
  }
 ],
 "metadata": {
  "kernelspec": {
   "display_name": "Python 3 (ipykernel)",
   "language": "python",
   "name": "python3"
  },
  "language_info": {
   "codemirror_mode": {
    "name": "ipython",
    "version": 3
   },
   "file_extension": ".py",
   "mimetype": "text/x-python",
   "name": "python",
   "nbconvert_exporter": "python",
   "pygments_lexer": "ipython3",
   "version": "3.9.12"
  }
 },
 "nbformat": 4,
 "nbformat_minor": 5
}
